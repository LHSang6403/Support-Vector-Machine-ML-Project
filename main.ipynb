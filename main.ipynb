{
 "cells": [
  {
   "cell_type": "markdown",
   "metadata": {},
   "source": [
    "## CSC14005 – MACHINE LEARNING\n",
    "## FINAL PROJECT"
   ]
  },
  {
   "cell_type": "markdown",
   "metadata": {},
   "source": [
    "### Students\n",
    "- Le Hoang Sang - 21127158\n",
    "- Tran Minh Quang - 21127"
   ]
  },
  {
   "cell_type": "markdown",
   "metadata": {},
   "source": [
    "### Prepare libs "
   ]
  },
  {
   "cell_type": "code",
   "execution_count": 5,
   "metadata": {},
   "outputs": [],
   "source": [
    "import fashion_mnist.utils.mnist_reader as mnist_reader\n",
    "from sklearn.svm import SVC\n",
    "from sklearn.metrics import accuracy_score, classification_report\n",
    "from sklearn.model_selection import train_test_split, cross_val_score\n",
    "import time\n",
    "import numpy as np\n",
    "\n",
    "X_train, y_train = mnist_reader.load_mnist('fashion_mnist/data/fashion', kind='train')\n",
    "X_test, y_test = mnist_reader.load_mnist('fashion_mnist/data/fashion', kind='t10k')"
   ]
  },
  {
   "cell_type": "code",
   "execution_count": 6,
   "metadata": {},
   "outputs": [
    {
     "data": {
      "text/plain": [
       "(60000, 784)"
      ]
     },
     "execution_count": 6,
     "metadata": {},
     "output_type": "execute_result"
    }
   ],
   "source": [
    "X_train = X_train / 255\n",
    "X_test = X_test / 255\n",
    "X_train.shape"
   ]
  },
  {
   "cell_type": "code",
   "execution_count": 7,
   "metadata": {},
   "outputs": [
    {
     "data": {
      "text/plain": [
       "(60000,)"
      ]
     },
     "execution_count": 7,
     "metadata": {},
     "output_type": "execute_result"
    }
   ],
   "source": [
    "y_train.shape"
   ]
  },
  {
   "cell_type": "markdown",
   "metadata": {},
   "source": [
    "### Using Linear Kernel"
   ]
  },
  {
   "cell_type": "code",
   "execution_count": 8,
   "metadata": {},
   "outputs": [
    {
     "name": "stdout",
     "output_type": "stream",
     "text": [
      "C=0.1 - Training Error: 0.1095, Validation Error: 0.1361, Training Time: 179.99 seconds\n"
     ]
    }
   ],
   "source": [
    "#linear model\n",
    "\n",
    "# model_linear = SVC(kernel='linear', C = 0.5)\n",
    "# model_linear.fit(X_train, y_train)\n",
    "\n",
    "# # predict\n",
    "# y_pred = model_linear.predict(X_test)\n",
    "\n",
    "# print(classification_report(y_test, y_pred))\n",
    "\n",
    "# ----------------------------------------------\n",
    "\n",
    "# Tạo danh sách các giá trị C bạn muốn thử nghiệm\n",
    "C_values = [0.1, 0.5, 1.0, 2.0, 5.0]\n",
    "\n",
    "# Chia dữ liệu thành tập huấn luyện và tập kiểm tra\n",
    "X_train, X_test, y_train, y_test = train_test_split(X_train, y_train, test_size=0.2, random_state=42)\n",
    "\n",
    "for C in C_values:\n",
    "    # Bắt đầu đo thời gian\n",
    "    start_time = time.time()\n",
    "\n",
    "    # Tạo và huấn luyện mô hình với giá trị C hiện tại\n",
    "    model_linear = SVC(kernel='linear', C=C)\n",
    "    model_linear.fit(X_train, y_train)``\n",
    "\n",
    "    # Đo thời gian huấn luyện\n",
    "    training_time = time.time() - start_time\n",
    "\n",
    "    # Tính độ lỗi trên tập huấn luyện\n",
    "    train_error = 1 - model_linear.score(X_train, y_train)\n",
    "\n",
    "    # Tính độ lỗi trên tập validation sử dụng cross-validation\n",
    "    val_error = 1 - np.mean(cross_val_score(model_linear, X_train, y_train, cv=5))\n",
    "\n",
    "    # In ra kết quả\n",
    "    print(f\"C={C} - Training Error: {train_error:.4f}, Validation Error: {val_error:.4f}, Training Time: {training_time:.2f} seconds\")"
   ]
  },
  {
   "cell_type": "markdown",
   "metadata": {},
   "source": [
    "### Comment results"
   ]
  },
  {
   "cell_type": "markdown",
   "metadata": {},
   "source": []
  },
  {
   "cell_type": "markdown",
   "metadata": {},
   "source": [
    "### Using RBF Kernel"
   ]
  },
  {
   "cell_type": "code",
   "execution_count": null,
   "metadata": {},
   "outputs": [],
   "source": [
    "# RBF model\n",
    "\n",
    "# model_rbf = SVC(kernel='rbf', C = 0.5, gamma = 'auto')\n",
    "# model_rbf.fit(X_train, y_train)\n",
    "\n",
    "# # predict\n",
    "# y_pred = model_rbf.predict(X_test)\n",
    "\n",
    "# print(classification_report(y_test, y_pred))\n",
    "\n",
    "# ------------------------------------------------\n",
    "\n",
    "# Tạo danh sách các giá trị C và gamma bạn muốn thử nghiệm\n",
    "C_values = [0.1, 0.5, 1.0, 2.0, 5.0]\n",
    "gamma_values = ['auto', 0.1, 0.5, 1.0, 2.0]\n",
    "\n",
    "# Chia dữ liệu thành tập huấn luyện và tập kiểm tra\n",
    "X_train, X_test, y_train, y_test = train_test_split(X_train, y_train, test_size=0.2, random_state=42)\n",
    "\n",
    "for C in C_values:\n",
    "    for gamma in gamma_values:\n",
    "        # Bắt đầu đo thời gian\n",
    "        start_time = time.time()\n",
    "\n",
    "        # Tạo và huấn luyện mô hình với giá trị C và gamma hiện tại\n",
    "        model_rbf = SVC(kernel='rbf', C=C, gamma=gamma)\n",
    "        model_rbf.fit(X_train, y_train)\n",
    "\n",
    "        # Đo thời gian huấn luyện\n",
    "        training_time = time.time() - start_time\n",
    "\n",
    "        # Tính độ lỗi trên tập huấn luyện\n",
    "        train_error = 1 - model_rbf.score(X_train, y_train)\n",
    "\n",
    "        # Tính độ lỗi trên tập validation sử dụng cross-validation\n",
    "        val_error = 1 - np.mean(cross_val_score(model_rbf, X_train, y_train, cv=5))\n",
    "\n",
    "        # In ra kết quả\n",
    "        print(f\"C={C}, gamma={gamma} - Training Error: {train_error:.4f}, Validation Error: {val_error:.4f}, Training Time: {training_time:.2f} seconds\")"
   ]
  },
  {
   "cell_type": "markdown",
   "metadata": {},
   "source": [
    "### Comment results"
   ]
  },
  {
   "cell_type": "markdown",
   "metadata": {},
   "source": []
  },
  {
   "cell_type": "markdown",
   "metadata": {},
   "source": [
    "### Review SVM"
   ]
  },
  {
   "cell_type": "markdown",
   "metadata": {},
   "source": [
    "### References"
   ]
  }
 ],
 "metadata": {
  "kernelspec": {
   "display_name": "Python 3",
   "language": "python",
   "name": "python3"
  },
  "language_info": {
   "codemirror_mode": {
    "name": "ipython",
    "version": 3
   },
   "file_extension": ".py",
   "mimetype": "text/x-python",
   "name": "python",
   "nbconvert_exporter": "python",
   "pygments_lexer": "ipython3",
   "version": "3.9.16"
  }
 },
 "nbformat": 4,
 "nbformat_minor": 2
}
